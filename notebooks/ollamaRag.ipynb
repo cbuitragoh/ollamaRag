{
 "cells": [
  {
   "cell_type": "markdown",
   "metadata": {},
   "source": [
    "### Create document loader"
   ]
  },
  {
   "cell_type": "markdown",
   "metadata": {},
   "source": [
    "Install specific dependencies and packages for document handling"
   ]
  },
  {
   "cell_type": "code",
   "execution_count": null,
   "metadata": {},
   "outputs": [],
   "source": [
    "%pip install --q unstructured langchain\n",
    "%pip install --q \"unstructured[all-docs]\"\n",
    "%pip install --q langchain-community"
   ]
  },
  {
   "cell_type": "code",
   "execution_count": 1,
   "metadata": {},
   "outputs": [
    {
     "data": {
      "text/plain": [
       "True"
      ]
     },
     "execution_count": 1,
     "metadata": {},
     "output_type": "execute_result"
    }
   ],
   "source": [
    "from langchain_community.document_loaders import UnstructuredPDFLoader\n",
    "from langchain_community.document_loaders import OnlinePDFLoader\n",
    "import os\n",
    "from dotenv import load_dotenv\n",
    "load_dotenv()"
   ]
  },
  {
   "cell_type": "markdown",
   "metadata": {},
   "source": [
    "### Load documents"
   ]
  },
  {
   "cell_type": "code",
   "execution_count": 2,
   "metadata": {},
   "outputs": [],
   "source": [
    "local_path = os.getenv(\"LOCAL_PATH\")\n",
    "\n",
    "# Local PDF file uploads\n",
    "if local_path:\n",
    "  loader = UnstructuredPDFLoader(file_path=local_path)\n",
    "  data = loader.load()\n",
    "else:\n",
    "  print(\"Upload a PDF file\")"
   ]
  },
  {
   "cell_type": "markdown",
   "metadata": {},
   "source": [
    "let's explore docs"
   ]
  },
  {
   "cell_type": "code",
   "execution_count": 20,
   "metadata": {},
   "outputs": [
    {
     "data": {
      "text/plain": [
       "langchain_core.documents.base.Document"
      ]
     },
     "execution_count": 20,
     "metadata": {},
     "output_type": "execute_result"
    }
   ],
   "source": [
    "# data type must be document\n",
    "type(data[0])"
   ]
  },
  {
   "cell_type": "code",
   "execution_count": 3,
   "metadata": {},
   "outputs": [
    {
     "data": {
      "text/plain": [
       "'https://doi.org/10.23850/2422068X.1182\\n\\nUn análisis de la estructura productiva del Alto Magdalena\\n\\nAn analysis of the productive structure of Alto Magdalena\\n\\ndIana PatrIcIa GaLIndo áVILa1 GLorIa ISaBeL PrecIado trUJILLo2\\n\\nRESUMEN Este artículo da a conocer el desarrollo del proyecto de investigación que permitió la caracterización empresarial de la provincia del Alto Magdalena, cuyo objetivo es determinar los elementos esenciales que influyen en el crecimiento económico de la región.\\n\\nDentro del desarrollo de la investigación se usó como referente metodológico el libro Metodología de la investigación de César Bernal; que plantea las siguientes etapas: Fase preparatoria que hace correlación a la etapa reflexiva y conformación cultural del investigador; en este sentido fue fundamental la contextualización teórica, conceptual y legal de la temática estudiada. En la Fase de diseño, se estableció el uso del enfoque cuantitativo de tipo descriptivo. Por su parte, la Fase de ejecución contó con un acceso al campo, un acercamiento formal e informal con las diferentes entidades; Alcaldías, Cámaras de Comercio y Secretarías de Desarrollo Económico de los ocho (8) municipios objeto de estudio y, por último, se realizó la etapa analítica en donde se interpretaron los datos recolectados.\\n\\nLa investigación permitió evidenciar que el Municipio de Girardot practica la teoría del lugar central de Walter Christaller, centralizando entidades públicas y privadas; Cámaras de Comercio, sector Salud, mayor oferta educativa, mayor número de población flotante y un notable número de Mipymes del Alto Magdalena.\\n\\nPalabras clave: Desarrollo regional, provincia Alto Magdalena, sectores económicos, oportunidades, unidades empresariales, infraestructura.\\n\\nRecibido: 15/07/2017 Aceptado: 25/10/2017.\\n\\nABSTRACT This article presents the development of the research project that allowed the entrepreneurial characterization of the province of Alto Magdalena, whose objective is to determine the essential elements that influence the economic growth of the region. As part of the development of the research, César Bernal\\'s book Methodology of Research was used as a methodological reference; which poses the following stages: preparatory\\n\\n1 Estudiante del Programa de Administración de Empresas. Corporación Universitaria Minuto de Dios, Centro Regional Girardot. Correo electrónico: dianagalindoavi@gmail.com. Celular: 3147688408. 2 Líder del proyecto del Programa de Administración de Empresas. Corporación Universitaria Minuto de Dios, Centro Regional Girardot. Correo electrónico:gipt321@hotmail.com. Celular: 3203158285.\\n\\n67\\n\\nphase that correlates the reflective stage and cultural formation of the researcher; in this sense, the theoretical, conceptual and legal contextualization of the subject studied was fundamental. In the desing phase was stablished the use of the descriptive quantitative approach. On the other hand, the execution phase had access to the field, a formal and informal approach with the different entities; Municipalities, Chambers of Commerce and Secretariats of Economic Development of the eight (8) municipalities under study and, finally, the analytical stage where the data collected was interpreted.\\n\\nThe investigation made it possible to demonstrate that the Municipality of Girardot practices the central place theory of Walter Christaller, centralizing public and private entities; Chambers of Commerce, the health sector, greater educational offer, greater number of floating population and a notable number of small and medium enterprises (SME) of the Upper Magdalena.\\n\\nKeywords: Regional development, Upper Magdalena province, economic sectors, opportunities, business units, infraestructure.\\n\\nINTRODUCCIÓN\\n\\nComo afirma Landínez León, (2009) en su trabajo Medio Ambiente y Pobreza: Realidades de Colombia y Chile, los modelos de desarrollo asumidos por algunas sociedades durante los últimos años, han defendido la idea de que el crecimiento económico automáticamente traerá bienestar.\\n\\nMuchas veces las aplicaciones de modelos de crecimiento regional han generado terribles situaciones de pobreza y alarmantes deterioros ambientales. Al (1990) considera los modelos de crecimiento endógeno y da a entender que cada uno de los avances del conocimiento y la ciencia debe ser aprovechado por las empresas para generar nuevas comprensiones. De acuerdo con Porter (1999), las asociaciones gremiales o clúster (cúmulo, conglomerado) son “un grupo geográficamente denso de empresas e instituciones conexas, pertenecientes a un campo concreto, unidas por rasgos comunes y complementarios entre sí”. (p. 205). La provincia del Alto Magdalena es\\n\\nrespecto, Barro\\n\\nuna región del departamento de Cundinamarca en Colombia, compuesta por ocho municipios (Agua de Dios, Nilo, Ricaurte, Jerusalén, Nariño, Tocaima, Guataquí y Girardot), con una población total de 152.271 habitantes según el censo del dane en 2005.\\n\\nSe evidencia que en la provincia del Alto Magdalena junto con Girardot se presentan ineficiencias en términos de vivienda, en el fortalecimiento de la capacidad turística, en el fomento del ecoturismo y en el respeto por el potencial fluvial, junto con la creciente brecha en el uso de las tecnologías, lo cual lleva a crecientes debilidades que, de ser superadas, pueden llegar a impactar efectivamente en el desarrollo regional.\\n\\nDentro del desarrollo metodológico, el presente trabajo cuenta con el proceso de análisis de contexto, posteriormente, se identifica la etapa de diseño, donde se establece la población objeto de estudio, los escenarios, lugares y localizaciones que permitieron profundizar y obtener información de la problemática\\n\\n68\\n\\ninvestigada. Para ello contamos con los ocho municipios (Castellanos, García, & Ochoa) que componen la provincia del Alto Magdalena. Posteriormente, se desarrolla la etapa de ejecución, a través de la cual se obtiene acceso al campo y un acercamiento formal e informal a la temática. En este sentido se realiza el diseño de instrumentos (ficha de caracterización o encuesta de caracterización) y establecimiento de técnicas que permitieron obtener información fundamental.\\n\\nEn tercer lugar, se encuentra la fase analítica en la que se organiza de forma estructurada de la información obtenida durante el transcurso de la investigación. Por último, la fase informativa en la que se elabora un resumen de los principales hallazgos encontrados; estos descubrimientos son interpretados y analizados, con el fin de plantear recomendaciones puntuales sobre lo evidenciado.\\n\\ncentral de la teoría económica tradicional. El primer desarrollo teórico en la literatura, considerado cronológicamente, es del alemán Johann Heinrich Von Thunen, quien en su obra El estado aislado plantea, a mediados del siglo xix, un modelo de localización agrícola que parte del supuesto elemental de un conjunto de consumidores rodeados por una llanura, sin diferencias en la tierra y con idénticas posibilidades de transporte en todas las direcciones, es decir, un espacio totalmente homogéneo. De manera concreta, Von Thunen (1966) construyó un modelo basado en los precios de la tierra, la calidad de la misma y los costes del transporte, a partir de lo cual diseñó un marco explicativo de la localización de los cultivos agrícolas en un espacio homogéneo, en torno al mercado en el que se intercambiarían los productos, que para el autor estaba representado por la ciudad.\\n\\nLa investigación pretende ser una herramienta que genere la articulación entre organizaciones gubernamentales, que permita la identificación de cada una de las debilidades del territorio y abre las posibilidades para generar espacios donde se potencialicen aquellas actividades económicas no tradicionales, que, de una u otra forma, han aportado a cada uno de los municipios de la provincia del Alto Magdalena.\\n\\nANÁLISIS TEÓRICO, CONCEPTUAL Teoría de la localización agrícola de Von Thünen\\n\\nLa renta de la tierra El inicio del estudio de temas de economía espacial es relativamente reciente, el cual se da a partir de desarrollos apartados del cuerpo\\n\\nLa Teoría del Lugar Central La teoría de lugar central fue elaborada por Walter Christaller en 1993, a principios de los años treinta del siglo xx y modificada por August Lósch en 2010 a fines de la misma década. Al continuar en la línea de los anteriores teóricos como Von Thünen, con su escenario agrícola y Weber, con la localización manufacturera, Christaller (1993) retoma en su trabajo la forma en que se distribuyen en el espacio las actividades económicas y las poblaciones. En 1933 se publicó en Alemania el trabajo clásico de Walter Christaller, los lugares centrales en Alemania meridional, que dio origen a una teoría sobre la distribución y jerarquización de los lugares centrales en un espacio isotrópico. Dicha obra sentó las bases para explicar la organización de las redes urbanas, teorizando sobre las pautas de ordenación de los núcleos\\n\\n69\\n\\nurbanos, considerados como centros de servicios que equipan a la población circundante.\\n\\nLa teoría de los lugares centrales asume que donde se prestan los servicios se acercan las personas para obtenerlos. De esta manera aparece un punto en el espacio que organiza el territorio en torno a sí, dada una lógica de comportamiento económico que gobierna la aparición de servicios y sus posibilidades de triunfar; producción localizada de forma exógena (por el azar, por alguna decisión de una autoridad pública o por cualquier otra razón) dentro de una zona económicamente atrasada (Polo, Schellekens, & Kaal). Por su dimensión y desarrollo tecnológico, dicha unidad motriz o empresa líder produce para mercados distintos de la localización, aunque tiende a demandar y crear en dicho lugar una gran parte de los requerimientos y servicios que precisa.\\n\\nse obtiene el producto directamente de la naturaleza, dentro de él se localiza la agricultura, la ganadería, la pesca, la caza. - Sector secundario o industrial. Comprende las actividades económicas relacionadas con la transformación industrial de alimentos y otro tipo de bienes y mercancías. - Sector terciario o de servicios. Incluye actividades que no producen una mercancía en sí, pero que son necesarias para el funcionamiento de la economía, por ejemplo: el comercio, los restaurantes, los hoteles, los transportes, las comunicaciones, entre otros. En este sector está el Turismo, que es considerado una de las industrias más grandes y emprendedoras de la sociedad actual (s.p.). El siguiente marco desarrolla los conceptos básicos para contextualizar el proyecto de investigación.\\n\\nque\\n\\nson\\n\\nfundamentales\\n\\nPara lograr un buen desarrollo productivo teniendo en cuenta las teorías expuestas, estas se deben sincronizar y armonizar bajo la estrategia competitiva de Michael Eugene Porter (1980), la competitividad está determinada por el valor del producto generado por una unidad de trabajo o de capital. La productividad es función de la calidad de los productos (de la que a su vez depende el precio) y de la eficiencia productiva. Por otro lado, la competitividad se presenta en industrias específicas y no en todos los sectores de un país.\\n\\nTerritorio El territorio \"se orienta en diferentes escalas del espacio geográfico\" (G. DiMéo, 1998, p. 141). Una geografía de los territorios exige descender a un nivel de análisis a la vez más fino que el de los grandes temas de la geografía clásica (ciudad, región, lugares rurales, barrios, valles), pero también más impreciso (el territorio del lobo), es decir, ubicuo e ideal, el \"territorio del vacío\" (Corbin, 1993, p. 19). La multiplicación y la trivialización de los usos actuales del término territorio contribuyen a atenuar la fuerza de este concepto.\\n\\nDentro de la teoría económica se hallan tres sectores sobresalientes. El Banco de la República (2015), en su página web biblioteca virtual los describe textualmente de la siguiente manera: - Sector primario o agropecuario. En el cual\\n\\nDesarrollo Regional El desarrollo regional es concebido por The Contracting Society (2003) como un proceso holístico en el cual distintos actores de la región participan en la definición, decisión e implementación del desarrollo más conveniente\\n\\n70\\n\\npara las presentes generaciones, sin afectar la capacidad de inversión económica y social, ni los activos ambientales de las futuras generaciones.\\n\\nNecesidades Básicas Insatisfechas Sen (1981) anota que en cada método de medición hay concepciones particulares sobre la pobreza, y que su uso tiene un interés propio en las tareas de diagnóstico sobre la magnitud del fenómeno y en su forma de enfrentarlo. Con esta orientación, se hace un recuento de los distintos métodos de medición de la pobreza, para establecer la ubicación de la de nbi y su concepción de pobreza. A partir de allí se exploran las ventajas y limitaciones de uso para fines prácticos de análisis social y para la definición de políticas (Fresneda Bautista, 2007, p.14). METODOLOGÍA\\n\\nNecesidades Básicas Insatisfechas Sen (1981) anota que en cada método de medición hay concepciones particulares sobre la pobreza, y que su uso tiene un interés propio en las tareas de diagnóstico sobre la magnitud del fenómeno y en su forma de enfrentarlo. Con esta orientación, se hace un recuento de los distintos métodos de medición de la pobreza, para establecer la ubicación de la de nbi y su concepción de pobreza. A partir de allí se exploran las ventajas y limitaciones de uso para fines prácticos de análisis social y para la definición de políticas (Fresneda Bautista, 2007, p.14). Enfoque y Tipo de investigación. La investigación se desarrolló con la Metodología Cuantitativa de tipo Descriptivo. Esta clasificación permite una descripción numerológica detallada de situaciones, eventos, personas, interacciones\\n\\ny características que son observables. Lo más importante es que convierte en partícipes directos a los actores involucrados, a través de lo cual posibilita revivir sus experiencias, conocer sus actitudes, creencias, pensamientos y reflexiones tal y como son percibidas.\\n\\nEl tipo Descriptivo explica las situaciones predominantes de la realidad. No solo permite recolectar la identificación de variables relevantes que admita la interpretación del contexto de acuerdo con los objetivos que plantea la investigación. Con fundamento en lo anterior se describen las condiciones socioeconómicas de cada uno de los municipios bajo estudio, que permite el análisis de la información referente a los municipios con menor participación productiva y aquellos que poseen un nivel de desarrollo mayor.\\n\\ninformación, sino\\n\\ntambién,\\n\\nLa Muestra seleccionada está representada por las 859 empresas que hacen presencia en la región del Alto Magdalena y presenta las siguientes características.\\n\\nTabla 1. Caracterización empresarial\\n\\nFuente: Elaboración Propia\\n\\n71\\n\\nMuestreo: Una vez establecidas las 859 empresas como el Universo n, se procede a trabajar en el muestreo aleatorio simple de donde se aplica la siguiente fórmula para determinar el tamaño de la muestra (http://normasapa.net/formula- muestra-poblacion/):\\n\\npor Mipymes del sector Turismo y Servicios. Predominan la existencia de 332 restaurantes, luego 144 estéticas, 126 empresas dedicadas al alojamiento y 27 instituciones artesanas con la más baja numeración.\\n\\nFigura 2.Composición Empresarial porcentaje por\\n\\nmunicipio\\n\\nFuente: Elaboración Propia\\n\\nRESULTADOS Con la aplicación de los instrumentos diseñados se obtuvo información que caracteriza a las empresas que hacen presencia en la provincia del Alto Magdalena.\\n\\nla siguiente\\n\\nFigura 1. Actividad económica provincia Alto Magdalena\\n\\nEn la Figura 2 se evidencia que un 74 % de las actividades de Girardot se concentran en sectores económicos. El sector que tiene la mayor representatividad es el terciario de la economía, especialmente porque las actividades como el Turismo y el Comercio conforman la estructura empresarial de la provincia, esto en cuanto al mayor porcentaje; pero un 0,3 % de composición empresarial es preocupante para el municipio de Nariño.\\n\\nFigura 3. Registro tributario por municipio\\n\\nFuente: Elaboración Propia\\n\\nLa Figura 1 muestra la actividad económica de las 859 empresas de la provincia del Alto Magdalena que en su mayoría están constituidas\\n\\nFuente: Elaboración Propia\\n\\n72\\n\\nComo se puede observar, Girardot junto con Tocaima poseen la mayor participación en cuanto a registro de empresas en régimen simplificado. Es claro que para la provincia el registro de empresas en régimen común todavía es escaso, lo cual confirma que la estructura empresarial de la región continúa siendo de pequeñas y medianas empresas, cuyo capital no supera los 280 millones de pesos.\\n\\nFigura 5. Número de trabajadores contratados\\n\\nFuente: Elaboración Propia\\n\\nFigura 4. Registro Tributario Provincia\\n\\nFuente: Elaboración Propia\\n\\nLa anterior figura representa esta situación, por medio de la cual se constata que más del 90 % de las empresas del Alto Magdalena pertenecen al régimen simplificado, tan solo el 8 % al régimen común y un escaso 2 % al régimen especial.\\n\\nPara el mercado laboral la población encuestada posee una planta laboral compuesta no más allá de 10 trabajadores, concentrada en Girardot con un 37 %. A pesar de ello la participación de municipios como Tocaima con 25 %, Agua de Dios con 8 % y Ricaurte aportan a la contratación laboral como empresas pequeñas. Tan solo el 4% (10) de las empresas encuestadas en Girardot están en el rango de contratación de más de 11 a 50 trabajadores. Los territorios que más aportan al empleo en la provincia son Girardot, Tocaima y Agua de Dios.\\n\\nFigura 6. Vinculación y administración del personal empresas provincia Alto Magdalena\\n\\nTabla 2. Número de personas contratadas por municipio\\n\\nENTRE 1 Y 10 ENTRE 1 Y 10 ENTRE 11 Y 50 ENTRE 11 Y 50\\n\\nAGUA DE DIOS GIRARDOT JERUSALEN TOCAIMA NARIÑO NILO RICAURTE TOTAL\\n\\n21 99 9 66 18 18 21 252\\n\\n8% 37% 3% 25% 7% 7% 8% 96%\\n\\n0 10 0 0 0 0 0 10\\n\\n0% 4% 0% 0% 0% 0% 0% 4%\\n\\nFuente: Elaboración Propia\\n\\nFuente. Elaboración Propia\\n\\nAnte este panorama es claro que el sector empresarial de la región del Alto Magdalena tiene clara la necesidad de los perfiles profesionales en una organización, especialmente el 88 % de las empresas (232 empresas) contrata el\\n\\n73\\n\\npersonal de acuerdo con el perfil del cargo. Pero en contraste a este no se tienen definidos todos los perfiles y competencias para cada cargo en el negocio. Un 12 % (32 empresas) tienen definido el organigrama de la estructura y funciones de la empresa. Esta es una alarma para las ies en términos de promocionar el acompañamiento organizacional para que desde la academia surjan alternativas y se genere un orden administrativo en cada una de las empresas de la región.\\n\\nFigura 8. Dinámica de desempeño empresarial de acuerdo con la línea de producción en la provincia del Alto Magdalena\\n\\nFigura 7. Generación de ganancias provincia Alto\\n\\nFuente: Elaboración Propia\\n\\nMagdalena\\n\\ncomportando la tendencia se orienta hacia los modelos de producción Flexibles, lo cual indica que cada uno de estos territorios pueden vender varias líneas de productos con los actuales procesos que dispone en la empresa, sin necesidad de realizar nuevas inversiones.\\n\\nlos demás municipios,\\n\\nFuente: Elaboración Propia\\n\\nFinalmente, se puede concluir que, para la provincia del Alto Magdalena, el 64 % de las empresas encuestadas, es decir 169, están caracterizadas dentro de su generación de la reposición simple. En otras ganancias palabras, que estas empresas de todos los ingresos que percibe por la venta de los productos, le permiten sustituirlos, es decir, apenas hay una generación mínima de niveles de ganancia para sustitución de producto.\\n\\nLuego de conocer de manera agregada la respuesta de los datos, se establece que, en un porcentaje alto de participación en promedio,\\n\\nCuando se habla de la cantidad y variedad de productos rígidos hace referencia a que la empresa está capacitada para generar o vender un solo producto o una línea de productos y tendría dificultad para atender al mercado con diversas líneas de producción. Para municipios como Tocaima, Nariño, Nilo, y Girardot, responden que sus sistemas de producción aún son rígidos en cierta medida.\\n\\nEn el Grafico 9 se representan los resultados de los requisitos de la planeación empresarial a través de la cual se solicitaba a la empresa marcar aquellos que se cumplían. Para ello se halló que el 60 % de las empresas encuestadas poseen una estructura organizacional y tienen definida la misión, la visión y los objetivos\\n\\n74\\n\\n(160 empresas) y un 39 % (103 empresas) efectúan una planeación de las actividades que las mismas deben realizar. Es claro entonces que aún falta mucho apoyo dentro del proceso de planeación administrativa y es necesario que desde la academia se generen espacios de capacitación para que las entidades puedan como mínimo, en más del 80 %, tener clara su estructura organizacional y las rutas de hacia dónde se dirigen específicamente, porque planificar es la clave.\\n\\nun lado la producción de materias primas de la región, que obligan a que las pequeñas empresas tengan que buscar cómo subsistir en un mercado donde la materia prima regional tiene un índice de participación del 35 % a nivel Local- Departamental. También es posible identificar que la participación de materias primas a nivel internacional es mínima de abastecimiento del 1 % a nivel extranjeros.\\n\\nGráfico 11. Procedencia de los clientes provincia Alto del Magdalena\\n\\nFigura 9. Planeación Estratégica de las empresas provincia Alto Magdalena\\n\\nFuente: Elaboración Propia\\n\\nFuente: Elaboración Propia\\n\\nGráfico10. Procedencia de insumos y procedencia de materias primas\\n\\nLos resultados representados en el Grafico 11 nos permite observar que la mayoría de los clientes que tienen las empresas son de procedencia Local – Departamental con el 83 %; es decir, que para las 265 empresas encuestadas 219 tienen sus clientes dentro de la provincia, tan solo el 17 % pertenece a clientes nacionales.\\n\\nFuente: Elaboración Propia\\n\\nComo podemos observar en la figura anterior, las empresas de la región prefieren la procedencias o abastecimiento de insumos y materias primas de forma nacional con una participación del 64 % (169 empresas). De esta manera se deja a\\n\\nDesde una perseptiva de provincia, — la exactamente en el comportamiento de competitividad empresarial como lo muestra la gráfica anterior—, la situacion que identifica la caracterizacion de las empresas frente a la competencia dentro de la provincia está representada por tener precios más bajos de los ofrecidos en el mercado, con un porcentaje\\n\\n75\\n\\n50% (133 empresas); esto quiere decir que la mitad de las empresas de la provincia tienen como bandera competitiva el manejo de buenos precios para posicionarse en el mercado, seguida por la buena calidad de los productos ofrecidos con el 29%, luego la disponibilidad inmediata de los productos ofrecidos con el 11% y por último, la excelente atención y servcio al cliente con un 10% (26 empresas) lo cual evidencia que para las empresas de la provincia del Alto Magdalena todavía no es relevante la atención al cliente ni en el proceso de venta ni en el de posventa.\\n\\nFigura 12. Diferencial competitivo de las empresas del Alto Magdalena\\n\\natractivos turísticos religiosos, como es el caso del municipio de Nariño.\\n\\nComo es evidente, Girardot se visualiza como ciudad educativa que posee una ubicación geográfica estratégica que le permite brindar servicios de educación superior a los municipios de la provincia, de esta manera logra que se minimice la brecha de acceso a la educación superior y se cumplan los objetivos trazados en el Plan 2019. Sin embargo, las condiciones de los demás territorios en materia de educación superior son escasas; para el caso particular de Tocaima en donde existe una de las poblaciones más densas después de Girardot (10,9 % de la población de la provincia con 17.814 habitantes), seguido por Agua de Dios con 11.419, es decir, el 7 % del total de habitantes de la provincia. De acuerdo con lo anterior, se concluye que Girardot es el más importante por su influencia en el tejido regional, como eje central de mercado de la provincia, dado a que el 62 % de su población total reside en esta zona.\\n\\nFuente: Elaboración Propia\\n\\nCONCLUSIONES\\n\\nEl estudio permitió evidenciar la inexistencia de un encadenamiento regional que permita que las unidades empresariales dinámicas jalonen el desarrollo hacia los municipios más pobres; con base en sus resultados se observó que Girardot concentra y absorbe la demanda de la provincia para el sector terciario. Se deben crear, para la provincia del Alto Magdalena, espacios para el desarrollo turístico rural, especialmente en aquellas zonas que se encuentran con mayores recursos pero que poseen problemas de\\n\\nFinalmente, se recomienda el avance del proceso de sinergia con la industria arrocera del Tolima y las áreas productoras de arroz de la provincia, con el fin de establecer vínculos productivos de la cadena de valor para generar espacios de promoción del empleo y el bienestar para los pequeños productores. De esta manera se potencializa el desarrollo económico agropecuario, con miras a hacer frente al manejo del sector desde el punto de vista del Tratado de Libre Comercio Internacional (tLc). Ello, en consideración de que los municipios con vocación agropecuaria, especialmente en cultivos como maíz y arroz, pueden encontrar restricciones al acceso de los mercados internacionales en caso de no cumplir con las medidas exigidas por el mismo.\\n\\n76\\n\\nREFERENCIAS\\n\\nCómo referenciar este artículo\\n\\nBarro, R. (1990). Government spending in a simple model of Endogeneous Growth. The Journal of Political Economy, 98(S5), 103-125. doi:10.1086/261726.\\n\\nBanco de la República. Subgerencia Cultural. (2015). Sectores económicos. Recuperado de http://www. banrepcultural.org/blaavirtual/ayudadetareas/ economia/sectores_economicos\\n\\nGalindo Ávila, D. P., & Preciado Trujillo, G. I. (2017). Un análisis de la estructura productiva del Alto Magdalena. Revista Vía Innova, 4(4), 67-77. doi: https://doi.org/10.23850/2422068X.1182\\n\\nCastellanos, J., García, C., & Ochoa, G. (2013). Metodología para la medición multidimensional de la sostenibilidad en fincas cafeteras. Recuperado de crece.org.co\\n\\nCorbin, A. (1993). El territorio del vacío. Occidente y la invención de la playa. Barcelona, España: Mondadori Grijalbo Comercial, S.A.\\n\\nChrtstaller, W. (1933). Central places in southern Germany. usa: Prenttce-Hall, Englewood Cliffs, NJ.\\n\\nDi Méo, G., Morales, M., & Giraud, M. (1998). Géographie sociale et territoires. Recuperado de http://www.persee.fr/doc/geo_0003-4010_1999_ num_108_608_21782_t1_0441_0000_1\\n\\nFresneda Bautista, O. (2007). La medida de necesidades básicas instrumento de medición de la pobreza y focalización de programas. Recuperado de http://repositorio.cepal. org/bitstream/handle/11362/4816/S0701027_ es.pdf?sequence=1&isAllowed=y\\n\\ninsatisfechas\\n\\n(NBI) como\\n\\nLandínez León, M. R. (2009). Proyecto de Investigación y desarrollo Medio Ambiente y Pobreza: Realidades de Colombia y Chile. Recuperado de http://www. unilibre.edu.co/bogota/pdfs/2016/1sin/29.pdf\\n\\nPolo, J., Schellekens, J., & Kaal, J. (2015). Composición de la materia orgánica en los suelos de seis zonas edafoclimáticas del Magdalena (Colombia). Spanish Journal of Soil Science, 5(3), 243-258. doi: https:// doi.org/10.3232/SJSS.2015.V5.N3.05.\\n\\nPorter, M. (1997) Ser competitivo: Nuevas aportaciones y conclusiones. Bilbao, España: Deusto S.A. Ediciones.\\n\\nPorter, M. (1980). Competitive strategy: Techniques for analyzing industries and competitors. New York: The Free Press.\\n\\nSen, A. (1981). Poverty and Famines. An Essay on Entitlement and Deprivation. Oxford: Claredon Press.\\n\\nDesarrollo Regional. (2003). Recuperado de http://www.\\n\\ncontractingsociety.com/regional.htm\\n\\nVon Thünen, J. H. (1966). The Isolated State. New York:\\n\\nPergamon Press.\\n\\n77'"
      ]
     },
     "execution_count": 3,
     "metadata": {},
     "output_type": "execute_result"
    }
   ],
   "source": [
    "# Preview first page\n",
    "data[0].page_content"
   ]
  },
  {
   "cell_type": "code",
   "execution_count": 8,
   "metadata": {},
   "outputs": [
    {
     "data": {
      "text/plain": [
       "['https://doi.org/10.23850/2422068X.1182',\n",
       " 'Un análisis de la estructura productiva del Alto Magdalena',\n",
       " 'An analysis of the productive structure of Alto Magdalena',\n",
       " 'dIana PatrIcIa GaLIndo áVILa1 GLorIa ISaBeL PrecIado trUJILLo2',\n",
       " 'RESUMEN Este artículo da a conocer el desarrollo del proyecto de investigación que permitió la caracterización empresarial de la provincia del Alto Magdalena, cuyo objetivo es determinar los elementos esenciales que influyen en el crecimiento económico de la región.',\n",
       " 'Dentro del desarrollo de la investigación se usó como referente metodológico el libro Metodología de la investigación de César Bernal; que plantea las siguientes etapas: Fase preparatoria que hace correlación a la etapa reflexiva y conformación cultural del investigador; en este sentido fue fundamental la contextualización teórica, conceptual y legal de la temática estudiada. En la Fase de diseño, se estableció el uso del enfoque cuantitativo de tipo descriptivo. Por su parte, la Fase de ejecución contó con un acceso al campo, un acercamiento formal e informal con las diferentes entidades; Alcaldías, Cámaras de Comercio y Secretarías de Desarrollo Económico de los ocho (8) municipios objeto de estudio y, por último, se realizó la etapa analítica en donde se interpretaron los datos recolectados.',\n",
       " 'La investigación permitió evidenciar que el Municipio de Girardot practica la teoría del lugar central de Walter Christaller, centralizando entidades públicas y privadas; Cámaras de Comercio, sector Salud, mayor oferta educativa, mayor número de población flotante y un notable número de Mipymes del Alto Magdalena.',\n",
       " 'Palabras clave: Desarrollo regional, provincia Alto Magdalena, sectores económicos, oportunidades, unidades empresariales, infraestructura.',\n",
       " 'Recibido: 15/07/2017 Aceptado: 25/10/2017.',\n",
       " \"ABSTRACT This article presents the development of the research project that allowed the entrepreneurial characterization of the province of Alto Magdalena, whose objective is to determine the essential elements that influence the economic growth of the region. As part of the development of the research, César Bernal's book Methodology of Research was used as a methodological reference; which poses the following stages: preparatory\",\n",
       " '1 Estudiante del Programa de Administración de Empresas. Corporación Universitaria Minuto de Dios, Centro Regional Girardot. Correo electrónico: dianagalindoavi@gmail.com. Celular: 3147688408. 2 Líder del proyecto del Programa de Administración de Empresas. Corporación Universitaria Minuto de Dios, Centro Regional Girardot. Correo electrónico:gipt321@hotmail.com. Celular: 3203158285.',\n",
       " '67',\n",
       " 'phase that correlates the reflective stage and cultural formation of the researcher; in this sense, the theoretical, conceptual and legal contextualization of the subject studied was fundamental. In the desing phase was stablished the use of the descriptive quantitative approach. On the other hand, the execution phase had access to the field, a formal and informal approach with the different entities; Municipalities, Chambers of Commerce and Secretariats of Economic Development of the eight (8) municipalities under study and, finally, the analytical stage where the data collected was interpreted.',\n",
       " 'The investigation made it possible to demonstrate that the Municipality of Girardot practices the central place theory of Walter Christaller, centralizing public and private entities; Chambers of Commerce, the health sector, greater educational offer, greater number of floating population and a notable number of small and medium enterprises (SME) of the Upper Magdalena.',\n",
       " 'Keywords: Regional development, Upper Magdalena province, economic sectors, opportunities, business units, infraestructure.',\n",
       " 'INTRODUCCIÓN',\n",
       " 'Como afirma Landínez León, (2009) en su trabajo Medio Ambiente y Pobreza: Realidades de Colombia y Chile, los modelos de desarrollo asumidos por algunas sociedades durante los últimos años, han defendido la idea de que el crecimiento económico automáticamente traerá bienestar.',\n",
       " 'Muchas veces las aplicaciones de modelos de crecimiento regional han generado terribles situaciones de pobreza y alarmantes deterioros ambientales. Al (1990) considera los modelos de crecimiento endógeno y da a entender que cada uno de los avances del conocimiento y la ciencia debe ser aprovechado por las empresas para generar nuevas comprensiones. De acuerdo con Porter (1999), las asociaciones gremiales o clúster (cúmulo, conglomerado) son “un grupo geográficamente denso de empresas e instituciones conexas, pertenecientes a un campo concreto, unidas por rasgos comunes y complementarios entre sí”. (p. 205). La provincia del Alto Magdalena es',\n",
       " 'respecto, Barro',\n",
       " 'una región del departamento de Cundinamarca en Colombia, compuesta por ocho municipios (Agua de Dios, Nilo, Ricaurte, Jerusalén, Nariño, Tocaima, Guataquí y Girardot), con una población total de 152.271 habitantes según el censo del dane en 2005.',\n",
       " 'Se evidencia que en la provincia del Alto Magdalena junto con Girardot se presentan ineficiencias en términos de vivienda, en el fortalecimiento de la capacidad turística, en el fomento del ecoturismo y en el respeto por el potencial fluvial, junto con la creciente brecha en el uso de las tecnologías, lo cual lleva a crecientes debilidades que, de ser superadas, pueden llegar a impactar efectivamente en el desarrollo regional.',\n",
       " 'Dentro del desarrollo metodológico, el presente trabajo cuenta con el proceso de análisis de contexto, posteriormente, se identifica la etapa de diseño, donde se establece la población objeto de estudio, los escenarios, lugares y localizaciones que permitieron profundizar y obtener información de la problemática',\n",
       " '68',\n",
       " 'investigada. Para ello contamos con los ocho municipios (Castellanos, García, & Ochoa) que componen la provincia del Alto Magdalena. Posteriormente, se desarrolla la etapa de ejecución, a través de la cual se obtiene acceso al campo y un acercamiento formal e informal a la temática. En este sentido se realiza el diseño de instrumentos (ficha de caracterización o encuesta de caracterización) y establecimiento de técnicas que permitieron obtener información fundamental.',\n",
       " 'En tercer lugar, se encuentra la fase analítica en la que se organiza de forma estructurada de la información obtenida durante el transcurso de la investigación. Por último, la fase informativa en la que se elabora un resumen de los principales hallazgos encontrados; estos descubrimientos son interpretados y analizados, con el fin de plantear recomendaciones puntuales sobre lo evidenciado.',\n",
       " 'central de la teoría económica tradicional. El primer desarrollo teórico en la literatura, considerado cronológicamente, es del alemán Johann Heinrich Von Thunen, quien en su obra El estado aislado plantea, a mediados del siglo xix, un modelo de localización agrícola que parte del supuesto elemental de un conjunto de consumidores rodeados por una llanura, sin diferencias en la tierra y con idénticas posibilidades de transporte en todas las direcciones, es decir, un espacio totalmente homogéneo. De manera concreta, Von Thunen (1966) construyó un modelo basado en los precios de la tierra, la calidad de la misma y los costes del transporte, a partir de lo cual diseñó un marco explicativo de la localización de los cultivos agrícolas en un espacio homogéneo, en torno al mercado en el que se intercambiarían los productos, que para el autor estaba representado por la ciudad.',\n",
       " 'La investigación pretende ser una herramienta que genere la articulación entre organizaciones gubernamentales, que permita la identificación de cada una de las debilidades del territorio y abre las posibilidades para generar espacios donde se potencialicen aquellas actividades económicas no tradicionales, que, de una u otra forma, han aportado a cada uno de los municipios de la provincia del Alto Magdalena.',\n",
       " 'ANÁLISIS TEÓRICO, CONCEPTUAL Teoría de la localización agrícola de Von Thünen',\n",
       " 'La renta de la tierra El inicio del estudio de temas de economía espacial es relativamente reciente, el cual se da a partir de desarrollos apartados del cuerpo',\n",
       " 'La Teoría del Lugar Central La teoría de lugar central fue elaborada por Walter Christaller en 1993, a principios de los años treinta del siglo xx y modificada por August Lósch en 2010 a fines de la misma década. Al continuar en la línea de los anteriores teóricos como Von Thünen, con su escenario agrícola y Weber, con la localización manufacturera, Christaller (1993) retoma en su trabajo la forma en que se distribuyen en el espacio las actividades económicas y las poblaciones. En 1933 se publicó en Alemania el trabajo clásico de Walter Christaller, los lugares centrales en Alemania meridional, que dio origen a una teoría sobre la distribución y jerarquización de los lugares centrales en un espacio isotrópico. Dicha obra sentó las bases para explicar la organización de las redes urbanas, teorizando sobre las pautas de ordenación de los núcleos',\n",
       " '69',\n",
       " 'urbanos, considerados como centros de servicios que equipan a la población circundante.',\n",
       " 'La teoría de los lugares centrales asume que donde se prestan los servicios se acercan las personas para obtenerlos. De esta manera aparece un punto en el espacio que organiza el territorio en torno a sí, dada una lógica de comportamiento económico que gobierna la aparición de servicios y sus posibilidades de triunfar; producción localizada de forma exógena (por el azar, por alguna decisión de una autoridad pública o por cualquier otra razón) dentro de una zona económicamente atrasada (Polo, Schellekens, & Kaal). Por su dimensión y desarrollo tecnológico, dicha unidad motriz o empresa líder produce para mercados distintos de la localización, aunque tiende a demandar y crear en dicho lugar una gran parte de los requerimientos y servicios que precisa.',\n",
       " 'se obtiene el producto directamente de la naturaleza, dentro de él se localiza la agricultura, la ganadería, la pesca, la caza. - Sector secundario o industrial. Comprende las actividades económicas relacionadas con la transformación industrial de alimentos y otro tipo de bienes y mercancías. - Sector terciario o de servicios. Incluye actividades que no producen una mercancía en sí, pero que son necesarias para el funcionamiento de la economía, por ejemplo: el comercio, los restaurantes, los hoteles, los transportes, las comunicaciones, entre otros. En este sector está el Turismo, que es considerado una de las industrias más grandes y emprendedoras de la sociedad actual (s.p.). El siguiente marco desarrolla los conceptos básicos para contextualizar el proyecto de investigación.',\n",
       " 'que',\n",
       " 'son',\n",
       " 'fundamentales',\n",
       " 'Para lograr un buen desarrollo productivo teniendo en cuenta las teorías expuestas, estas se deben sincronizar y armonizar bajo la estrategia competitiva de Michael Eugene Porter (1980), la competitividad está determinada por el valor del producto generado por una unidad de trabajo o de capital. La productividad es función de la calidad de los productos (de la que a su vez depende el precio) y de la eficiencia productiva. Por otro lado, la competitividad se presenta en industrias específicas y no en todos los sectores de un país.',\n",
       " 'Territorio El territorio \"se orienta en diferentes escalas del espacio geográfico\" (G. DiMéo, 1998, p. 141). Una geografía de los territorios exige descender a un nivel de análisis a la vez más fino que el de los grandes temas de la geografía clásica (ciudad, región, lugares rurales, barrios, valles), pero también más impreciso (el territorio del lobo), es decir, ubicuo e ideal, el \"territorio del vacío\" (Corbin, 1993, p. 19). La multiplicación y la trivialización de los usos actuales del término territorio contribuyen a atenuar la fuerza de este concepto.',\n",
       " 'Dentro de la teoría económica se hallan tres sectores sobresalientes. El Banco de la República (2015), en su página web biblioteca virtual los describe textualmente de la siguiente manera: - Sector primario o agropecuario. En el cual',\n",
       " 'Desarrollo Regional El desarrollo regional es concebido por The Contracting Society (2003) como un proceso holístico en el cual distintos actores de la región participan en la definición, decisión e implementación del desarrollo más conveniente',\n",
       " '70',\n",
       " 'para las presentes generaciones, sin afectar la capacidad de inversión económica y social, ni los activos ambientales de las futuras generaciones.',\n",
       " 'Necesidades Básicas Insatisfechas Sen (1981) anota que en cada método de medición hay concepciones particulares sobre la pobreza, y que su uso tiene un interés propio en las tareas de diagnóstico sobre la magnitud del fenómeno y en su forma de enfrentarlo. Con esta orientación, se hace un recuento de los distintos métodos de medición de la pobreza, para establecer la ubicación de la de nbi y su concepción de pobreza. A partir de allí se exploran las ventajas y limitaciones de uso para fines prácticos de análisis social y para la definición de políticas (Fresneda Bautista, 2007, p.14). METODOLOGÍA',\n",
       " 'Necesidades Básicas Insatisfechas Sen (1981) anota que en cada método de medición hay concepciones particulares sobre la pobreza, y que su uso tiene un interés propio en las tareas de diagnóstico sobre la magnitud del fenómeno y en su forma de enfrentarlo. Con esta orientación, se hace un recuento de los distintos métodos de medición de la pobreza, para establecer la ubicación de la de nbi y su concepción de pobreza. A partir de allí se exploran las ventajas y limitaciones de uso para fines prácticos de análisis social y para la definición de políticas (Fresneda Bautista, 2007, p.14). Enfoque y Tipo de investigación. La investigación se desarrolló con la Metodología Cuantitativa de tipo Descriptivo. Esta clasificación permite una descripción numerológica detallada de situaciones, eventos, personas, interacciones',\n",
       " 'y características que son observables. Lo más importante es que convierte en partícipes directos a los actores involucrados, a través de lo cual posibilita revivir sus experiencias, conocer sus actitudes, creencias, pensamientos y reflexiones tal y como son percibidas.',\n",
       " 'El tipo Descriptivo explica las situaciones predominantes de la realidad. No solo permite recolectar la identificación de variables relevantes que admita la interpretación del contexto de acuerdo con los objetivos que plantea la investigación. Con fundamento en lo anterior se describen las condiciones socioeconómicas de cada uno de los municipios bajo estudio, que permite el análisis de la información referente a los municipios con menor participación productiva y aquellos que poseen un nivel de desarrollo mayor.',\n",
       " 'información, sino',\n",
       " 'también,',\n",
       " 'La Muestra seleccionada está representada por las 859 empresas que hacen presencia en la región del Alto Magdalena y presenta las siguientes características.',\n",
       " 'Tabla 1. Caracterización empresarial',\n",
       " 'Fuente: Elaboración Propia',\n",
       " '71',\n",
       " 'Muestreo: Una vez establecidas las 859 empresas como el Universo n, se procede a trabajar en el muestreo aleatorio simple de donde se aplica la siguiente fórmula para determinar el tamaño de la muestra (http://normasapa.net/formula- muestra-poblacion/):',\n",
       " 'por Mipymes del sector Turismo y Servicios. Predominan la existencia de 332 restaurantes, luego 144 estéticas, 126 empresas dedicadas al alojamiento y 27 instituciones artesanas con la más baja numeración.',\n",
       " 'Figura 2.Composición Empresarial porcentaje por',\n",
       " 'municipio',\n",
       " 'Fuente: Elaboración Propia',\n",
       " 'RESULTADOS Con la aplicación de los instrumentos diseñados se obtuvo información que caracteriza a las empresas que hacen presencia en la provincia del Alto Magdalena.',\n",
       " 'la siguiente',\n",
       " 'Figura 1. Actividad económica provincia Alto Magdalena',\n",
       " 'En la Figura 2 se evidencia que un 74 % de las actividades de Girardot se concentran en sectores económicos. El sector que tiene la mayor representatividad es el terciario de la economía, especialmente porque las actividades como el Turismo y el Comercio conforman la estructura empresarial de la provincia, esto en cuanto al mayor porcentaje; pero un 0,3 % de composición empresarial es preocupante para el municipio de Nariño.',\n",
       " 'Figura 3. Registro tributario por municipio',\n",
       " 'Fuente: Elaboración Propia',\n",
       " 'La Figura 1 muestra la actividad económica de las 859 empresas de la provincia del Alto Magdalena que en su mayoría están constituidas',\n",
       " 'Fuente: Elaboración Propia',\n",
       " '72',\n",
       " 'Como se puede observar, Girardot junto con Tocaima poseen la mayor participación en cuanto a registro de empresas en régimen simplificado. Es claro que para la provincia el registro de empresas en régimen común todavía es escaso, lo cual confirma que la estructura empresarial de la región continúa siendo de pequeñas y medianas empresas, cuyo capital no supera los 280 millones de pesos.',\n",
       " 'Figura 5. Número de trabajadores contratados',\n",
       " 'Fuente: Elaboración Propia',\n",
       " 'Figura 4. Registro Tributario Provincia',\n",
       " 'Fuente: Elaboración Propia',\n",
       " 'La anterior figura representa esta situación, por medio de la cual se constata que más del 90 % de las empresas del Alto Magdalena pertenecen al régimen simplificado, tan solo el 8 % al régimen común y un escaso 2 % al régimen especial.',\n",
       " 'Para el mercado laboral la población encuestada posee una planta laboral compuesta no más allá de 10 trabajadores, concentrada en Girardot con un 37 %. A pesar de ello la participación de municipios como Tocaima con 25 %, Agua de Dios con 8 % y Ricaurte aportan a la contratación laboral como empresas pequeñas. Tan solo el 4% (10) de las empresas encuestadas en Girardot están en el rango de contratación de más de 11 a 50 trabajadores. Los territorios que más aportan al empleo en la provincia son Girardot, Tocaima y Agua de Dios.',\n",
       " 'Figura 6. Vinculación y administración del personal empresas provincia Alto Magdalena',\n",
       " 'Tabla 2. Número de personas contratadas por municipio',\n",
       " 'ENTRE 1 Y 10 ENTRE 1 Y 10 ENTRE 11 Y 50 ENTRE 11 Y 50',\n",
       " 'AGUA DE DIOS GIRARDOT JERUSALEN TOCAIMA NARIÑO NILO RICAURTE TOTAL',\n",
       " '21 99 9 66 18 18 21 252',\n",
       " '8% 37% 3% 25% 7% 7% 8% 96%',\n",
       " '0 10 0 0 0 0 0 10',\n",
       " '0% 4% 0% 0% 0% 0% 0% 4%',\n",
       " 'Fuente: Elaboración Propia',\n",
       " 'Fuente. Elaboración Propia',\n",
       " 'Ante este panorama es claro que el sector empresarial de la región del Alto Magdalena tiene clara la necesidad de los perfiles profesionales en una organización, especialmente el 88 % de las empresas (232 empresas) contrata el',\n",
       " '73',\n",
       " 'personal de acuerdo con el perfil del cargo. Pero en contraste a este no se tienen definidos todos los perfiles y competencias para cada cargo en el negocio. Un 12 % (32 empresas) tienen definido el organigrama de la estructura y funciones de la empresa. Esta es una alarma para las ies en términos de promocionar el acompañamiento organizacional para que desde la academia surjan alternativas y se genere un orden administrativo en cada una de las empresas de la región.',\n",
       " 'Figura 8. Dinámica de desempeño empresarial de acuerdo con la línea de producción en la provincia del Alto Magdalena',\n",
       " 'Figura 7. Generación de ganancias provincia Alto',\n",
       " 'Fuente: Elaboración Propia',\n",
       " 'Magdalena',\n",
       " 'comportando la tendencia se orienta hacia los modelos de producción Flexibles, lo cual indica que cada uno de estos territorios pueden vender varias líneas de productos con los actuales procesos que dispone en la empresa, sin necesidad de realizar nuevas inversiones.',\n",
       " 'los demás municipios,',\n",
       " 'Fuente: Elaboración Propia',\n",
       " 'Finalmente, se puede concluir que, para la provincia del Alto Magdalena, el 64 % de las empresas encuestadas, es decir 169, están caracterizadas dentro de su generación de la reposición simple. En otras ganancias palabras, que estas empresas de todos los ingresos que percibe por la venta de los productos, le permiten sustituirlos, es decir, apenas hay una generación mínima de niveles de ganancia para sustitución de producto.',\n",
       " 'Luego de conocer de manera agregada la respuesta de los datos, se establece que, en un porcentaje alto de participación en promedio,',\n",
       " 'Cuando se habla de la cantidad y variedad de productos rígidos hace referencia a que la empresa está capacitada para generar o vender un solo producto o una línea de productos y tendría dificultad para atender al mercado con diversas líneas de producción. Para municipios como Tocaima, Nariño, Nilo, y Girardot, responden que sus sistemas de producción aún son rígidos en cierta medida.',\n",
       " 'En el Grafico 9 se representan los resultados de los requisitos de la planeación empresarial a través de la cual se solicitaba a la empresa marcar aquellos que se cumplían. Para ello se halló que el 60 % de las empresas encuestadas poseen una estructura organizacional y tienen definida la misión, la visión y los objetivos',\n",
       " '74',\n",
       " '(160 empresas) y un 39 % (103 empresas) efectúan una planeación de las actividades que las mismas deben realizar. Es claro entonces que aún falta mucho apoyo dentro del proceso de planeación administrativa y es necesario que desde la academia se generen espacios de capacitación para que las entidades puedan como mínimo, en más del 80 %, tener clara su estructura organizacional y las rutas de hacia dónde se dirigen específicamente, porque planificar es la clave.',\n",
       " 'un lado la producción de materias primas de la región, que obligan a que las pequeñas empresas tengan que buscar cómo subsistir en un mercado donde la materia prima regional tiene un índice de participación del 35 % a nivel Local- Departamental. También es posible identificar que la participación de materias primas a nivel internacional es mínima de abastecimiento del 1 % a nivel extranjeros.',\n",
       " 'Gráfico 11. Procedencia de los clientes provincia Alto del Magdalena',\n",
       " 'Figura 9. Planeación Estratégica de las empresas provincia Alto Magdalena',\n",
       " 'Fuente: Elaboración Propia',\n",
       " 'Fuente: Elaboración Propia',\n",
       " 'Gráfico10. Procedencia de insumos y procedencia de materias primas',\n",
       " 'Los resultados representados en el Grafico 11 nos permite observar que la mayoría de los clientes que tienen las empresas son de procedencia Local – Departamental con el 83 %; es decir, que para las 265 empresas encuestadas 219 tienen sus clientes dentro de la provincia, tan solo el 17 % pertenece a clientes nacionales.',\n",
       " 'Fuente: Elaboración Propia',\n",
       " 'Como podemos observar en la figura anterior, las empresas de la región prefieren la procedencias o abastecimiento de insumos y materias primas de forma nacional con una participación del 64 % (169 empresas). De esta manera se deja a',\n",
       " 'Desde una perseptiva de provincia, — la exactamente en el comportamiento de competitividad empresarial como lo muestra la gráfica anterior—, la situacion que identifica la caracterizacion de las empresas frente a la competencia dentro de la provincia está representada por tener precios más bajos de los ofrecidos en el mercado, con un porcentaje',\n",
       " '75',\n",
       " '50% (133 empresas); esto quiere decir que la mitad de las empresas de la provincia tienen como bandera competitiva el manejo de buenos precios para posicionarse en el mercado, seguida por la buena calidad de los productos ofrecidos con el 29%, luego la disponibilidad inmediata de los productos ofrecidos con el 11% y por último, la excelente atención y servcio al cliente con un 10% (26 empresas) lo cual evidencia que para las empresas de la provincia del Alto Magdalena todavía no es relevante la atención al cliente ni en el proceso de venta ni en el de posventa.',\n",
       " 'Figura 12. Diferencial competitivo de las empresas del Alto Magdalena',\n",
       " 'atractivos turísticos religiosos, como es el caso del municipio de Nariño.',\n",
       " 'Como es evidente, Girardot se visualiza como ciudad educativa que posee una ubicación geográfica estratégica que le permite brindar servicios de educación superior a los municipios de la provincia, de esta manera logra que se minimice la brecha de acceso a la educación superior y se cumplan los objetivos trazados en el Plan 2019. Sin embargo, las condiciones de los demás territorios en materia de educación superior son escasas; para el caso particular de Tocaima en donde existe una de las poblaciones más densas después de Girardot (10,9 % de la población de la provincia con 17.814 habitantes), seguido por Agua de Dios con 11.419, es decir, el 7 % del total de habitantes de la provincia. De acuerdo con lo anterior, se concluye que Girardot es el más importante por su influencia en el tejido regional, como eje central de mercado de la provincia, dado a que el 62 % de su población total reside en esta zona.',\n",
       " 'Fuente: Elaboración Propia',\n",
       " 'CONCLUSIONES',\n",
       " 'El estudio permitió evidenciar la inexistencia de un encadenamiento regional que permita que las unidades empresariales dinámicas jalonen el desarrollo hacia los municipios más pobres; con base en sus resultados se observó que Girardot concentra y absorbe la demanda de la provincia para el sector terciario. Se deben crear, para la provincia del Alto Magdalena, espacios para el desarrollo turístico rural, especialmente en aquellas zonas que se encuentran con mayores recursos pero que poseen problemas de',\n",
       " 'Finalmente, se recomienda el avance del proceso de sinergia con la industria arrocera del Tolima y las áreas productoras de arroz de la provincia, con el fin de establecer vínculos productivos de la cadena de valor para generar espacios de promoción del empleo y el bienestar para los pequeños productores. De esta manera se potencializa el desarrollo económico agropecuario, con miras a hacer frente al manejo del sector desde el punto de vista del Tratado de Libre Comercio Internacional (tLc). Ello, en consideración de que los municipios con vocación agropecuaria, especialmente en cultivos como maíz y arroz, pueden encontrar restricciones al acceso de los mercados internacionales en caso de no cumplir con las medidas exigidas por el mismo.',\n",
       " '76',\n",
       " 'REFERENCIAS',\n",
       " 'Cómo referenciar este artículo',\n",
       " 'Barro, R. (1990). Government spending in a simple model of Endogeneous Growth. The Journal of Political Economy, 98(S5), 103-125. doi:10.1086/261726.',\n",
       " 'Banco de la República. Subgerencia Cultural. (2015). Sectores económicos. Recuperado de http://www. banrepcultural.org/blaavirtual/ayudadetareas/ economia/sectores_economicos',\n",
       " 'Galindo Ávila, D. P., & Preciado Trujillo, G. I. (2017). Un análisis de la estructura productiva del Alto Magdalena. Revista Vía Innova, 4(4), 67-77. doi: https://doi.org/10.23850/2422068X.1182',\n",
       " 'Castellanos, J., García, C., & Ochoa, G. (2013). Metodología para la medición multidimensional de la sostenibilidad en fincas cafeteras. Recuperado de crece.org.co',\n",
       " 'Corbin, A. (1993). El territorio del vacío. Occidente y la invención de la playa. Barcelona, España: Mondadori Grijalbo Comercial, S.A.',\n",
       " 'Chrtstaller, W. (1933). Central places in southern Germany. usa: Prenttce-Hall, Englewood Cliffs, NJ.',\n",
       " 'Di Méo, G., Morales, M., & Giraud, M. (1998). Géographie sociale et territoires. Recuperado de http://www.persee.fr/doc/geo_0003-4010_1999_ num_108_608_21782_t1_0441_0000_1',\n",
       " 'Fresneda Bautista, O. (2007). La medida de necesidades básicas instrumento de medición de la pobreza y focalización de programas. Recuperado de http://repositorio.cepal. org/bitstream/handle/11362/4816/S0701027_ es.pdf?sequence=1&isAllowed=y',\n",
       " 'insatisfechas',\n",
       " '(NBI) como',\n",
       " 'Landínez León, M. R. (2009). Proyecto de Investigación y desarrollo Medio Ambiente y Pobreza: Realidades de Colombia y Chile. Recuperado de http://www. unilibre.edu.co/bogota/pdfs/2016/1sin/29.pdf',\n",
       " 'Polo, J., Schellekens, J., & Kaal, J. (2015). Composición de la materia orgánica en los suelos de seis zonas edafoclimáticas del Magdalena (Colombia). Spanish Journal of Soil Science, 5(3), 243-258. doi: https:// doi.org/10.3232/SJSS.2015.V5.N3.05.',\n",
       " 'Porter, M. (1997) Ser competitivo: Nuevas aportaciones y conclusiones. Bilbao, España: Deusto S.A. Ediciones.',\n",
       " 'Porter, M. (1980). Competitive strategy: Techniques for analyzing industries and competitors. New York: The Free Press.',\n",
       " 'Sen, A. (1981). Poverty and Famines. An Essay on Entitlement and Deprivation. Oxford: Claredon Press.',\n",
       " 'Desarrollo Regional. (2003). Recuperado de http://www.',\n",
       " 'contractingsociety.com/regional.htm',\n",
       " 'Von Thünen, J. H. (1966). The Isolated State. New York:',\n",
       " 'Pergamon Press.',\n",
       " '77']"
      ]
     },
     "execution_count": 8,
     "metadata": {},
     "output_type": "execute_result"
    }
   ],
   "source": [
    "# show with pretty format\n",
    "data[0].page_content.split(\"\\n\\n\") # select the correct splitter character"
   ]
  },
  {
   "cell_type": "code",
   "execution_count": 23,
   "metadata": {},
   "outputs": [
    {
     "name": "stdout",
     "output_type": "stream",
     "text": [
      "N chars in raw doc: 27907\n"
     ]
    }
   ],
   "source": [
    "# number of characters in raw document\n",
    "print(f\"N chars in raw doc: {len(data[0].page_content)}\")"
   ]
  },
  {
   "cell_type": "markdown",
   "metadata": {},
   "source": [
    "### RAG Configuration"
   ]
  },
  {
   "cell_type": "markdown",
   "metadata": {},
   "source": [
    "download embedding model and chat model (mistral)"
   ]
  },
  {
   "cell_type": "code",
   "execution_count": null,
   "metadata": {},
   "outputs": [],
   "source": [
    "!ollama pull nomic-embed-text\n",
    "!ollama pull mistral\n",
    "#!ollama list --uncomment this line for validate all models were downloaded"
   ]
  },
  {
   "cell_type": "markdown",
   "metadata": {},
   "source": [
    "Install dependencies for local vector database and text splitters"
   ]
  },
  {
   "cell_type": "code",
   "execution_count": null,
   "metadata": {},
   "outputs": [],
   "source": [
    "%pip install --q chromadb\n",
    "%pip install --q langchain-text-splitters"
   ]
  },
  {
   "cell_type": "code",
   "execution_count": null,
   "metadata": {},
   "outputs": [],
   "source": [
    "# load langchain dependencies for use ollama Embeddings and Chromadb\n",
    "from langchain_community.embeddings import OllamaEmbeddings\n",
    "from langchain_text_splitters import RecursiveCharacterTextSplitter\n",
    "from langchain_community.vectorstores import Chroma"
   ]
  },
  {
   "cell_type": "code",
   "execution_count": null,
   "metadata": {},
   "outputs": [],
   "source": [
    "# Split and chunk \n",
    "text_splitter = RecursiveCharacterTextSplitter(chunk_size=7500, chunk_overlap=100) # select the properly chunk size \n",
    "chunks = text_splitter.split_documents(data)"
   ]
  },
  {
   "cell_type": "code",
   "execution_count": null,
   "metadata": {},
   "outputs": [],
   "source": [
    "# Add to vector database\n",
    "vector_db = Chroma.from_documents(\n",
    "    documents=chunks, \n",
    "    embedding=OllamaEmbeddings(model=\"nomic-embed-text\",show_progress=True),\n",
    "    collection_name=\"local-rag\"\n",
    ")"
   ]
  },
  {
   "cell_type": "markdown",
   "metadata": {},
   "source": [
    "### Retrieve"
   ]
  },
  {
   "cell_type": "code",
   "execution_count": null,
   "metadata": {},
   "outputs": [],
   "source": [
    "# dependencies for chatting and chaining\n",
    "from langchain.prompts import ChatPromptTemplate, PromptTemplate\n",
    "from langchain_core.output_parsers import StrOutputParser\n",
    "from langchain_community.chat_models import ChatOllama\n",
    "from langchain_core.runnables import RunnablePassthrough\n",
    "from langchain.retrievers.multi_query import MultiQueryRetriever"
   ]
  },
  {
   "cell_type": "code",
   "execution_count": null,
   "metadata": {},
   "outputs": [],
   "source": [
    "# LLM from Ollama\n",
    "local_model = \"mistral\"\n",
    "llm = ChatOllama(model=local_model)"
   ]
  },
  {
   "cell_type": "code",
   "execution_count": null,
   "metadata": {},
   "outputs": [],
   "source": [
    "QUERY_PROMPT = PromptTemplate(\n",
    "    input_variables=[\"question\"],\n",
    "    template=\"\"\"You are an AI language model assistant. Your task is to generate three\n",
    "    different versions of the given user question to retrieve relevant documents from\n",
    "    a vector database. By generating multiple perspectives on the user question, your\n",
    "    goal is to help the user overcome some of the limitations of the distance-based\n",
    "    similarity search. Provide these alternative questions separated by newlines.\n",
    "    Original question: {question}\"\"\",\n",
    ")"
   ]
  },
  {
   "cell_type": "code",
   "execution_count": null,
   "metadata": {},
   "outputs": [],
   "source": [
    "retriever = MultiQueryRetriever.from_llm(\n",
    "    vector_db.as_retriever(), \n",
    "    llm,\n",
    "    prompt=QUERY_PROMPT\n",
    ")\n",
    "\n",
    "# RAG prompt\n",
    "template = \"\"\"Answer the question based ONLY on the following context:\n",
    "{context}\n",
    "Question: {question}\n",
    "\"\"\"\n",
    "\n",
    "prompt = ChatPromptTemplate.from_template(template)"
   ]
  },
  {
   "cell_type": "code",
   "execution_count": null,
   "metadata": {},
   "outputs": [],
   "source": [
    "chain = (\n",
    "    {\"context\": retriever, \"question\": RunnablePassthrough()}\n",
    "    | prompt\n",
    "    | llm\n",
    "    | StrOutputParser()\n",
    ")"
   ]
  },
  {
   "cell_type": "code",
   "execution_count": null,
   "metadata": {},
   "outputs": [],
   "source": [
    "chain.invoke(input(\"\"))"
   ]
  },
  {
   "cell_type": "code",
   "execution_count": null,
   "metadata": {},
   "outputs": [],
   "source": [
    "chain.invoke(\"Qué dice la teoría del lugar central?\")"
   ]
  },
  {
   "cell_type": "code",
   "execution_count": null,
   "metadata": {},
   "outputs": [],
   "source": [
    "# Delete all collections in the db\n",
    "vector_db.delete_collection()"
   ]
  }
 ],
 "metadata": {
  "kernelspec": {
   "display_name": ".venv",
   "language": "python",
   "name": "python3"
  },
  "language_info": {
   "codemirror_mode": {
    "name": "ipython",
    "version": 3
   },
   "file_extension": ".py",
   "mimetype": "text/x-python",
   "name": "python",
   "nbconvert_exporter": "python",
   "pygments_lexer": "ipython3",
   "version": "3.11.4"
  }
 },
 "nbformat": 4,
 "nbformat_minor": 2
}
